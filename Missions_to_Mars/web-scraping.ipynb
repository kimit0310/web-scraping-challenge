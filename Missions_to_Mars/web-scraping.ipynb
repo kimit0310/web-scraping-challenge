{
 "cells": [
  {
   "cell_type": "code",
   "execution_count": 20,
   "metadata": {},
   "outputs": [],
   "source": [
    "from bs4 import BeautifulSoup\n",
    "from splinter import Browser\n",
    "import pymongo\n",
    "import pandas as pd\n",
    "import requests\n",
    "import time"
   ]
  },
  {
   "cell_type": "code",
   "execution_count": 21,
   "metadata": {},
   "outputs": [],
   "source": [
    "executable_path = {'executable_path': '/usr/local/bin/chromedriver'}\n",
    "browser = Browser('chrome', **executable_path, headless=False)"
   ]
  },
  {
   "cell_type": "code",
   "execution_count": 3,
   "metadata": {},
   "outputs": [],
   "source": [
    "#News\n",
    "url = \"https://mars.nasa.gov/news/\"\n",
    "browser.visit(url)\n",
    "time.sleep(2)\n",
    "soup = BeautifulSoup(browser.html, 'html.parser')\n",
    "titles = soup.find(\"ul\",class_='item_list')\n",
    "newstitle = []\n",
    "for ul in titles:\n",
    "    for a in titles.findAll('a'):\n",
    "        newstitle.append(a.text)\n",
    "news_title = newstitle[1]\n",
    "news_paragraph = soup.find(\"div\", class_=\"article_teaser_body\").text\n",
    "# print(f'title:{news_title} paragraph:{news_paragraph}')"
   ]
  },
  {
   "cell_type": "code",
   "execution_count": 4,
   "metadata": {},
   "outputs": [],
   "source": [
    "#Images\n",
    "url_image = \"https://www.jpl.nasa.gov/spaceimages/?search=&category=Mars\"\n",
    "browser.visit(url_image)\n",
    "browser.find_by_id('full_image').click()\n",
    "featured_image_url = browser.find_by_css('.fancybox-image').first['src']\n",
    "# featured_image_url"
   ]
  },
  {
   "cell_type": "code",
   "execution_count": 5,
   "metadata": {},
   "outputs": [],
   "source": [
    "#Weather\n",
    "url_weather = \"https://twitter.com/marswxreport?lang=en\"\n",
    "browser.visit(url_weather)\n",
    "time.sleep(2)\n",
    "soup = BeautifulSoup(browser.html,\"html.parser\")\n",
    "article = soup.findAll('article')\n",
    "weather = article[1].findAll('span', class_=\"css-901oao css-16my406 r-1qd0xha r-ad9z0x r-bcqeeo r-qvutc0\")[4].text"
   ]
  },
  {
   "cell_type": "code",
   "execution_count": 6,
   "metadata": {},
   "outputs": [],
   "source": [
    "#Facts\n",
    "url_facts = \"https://space-facts.com/mars/\"\n",
    "df_facts = pd.read_html(url_facts)[0]\n",
    "df_facts.columns = [\"Facts\",\"Values\"]\n",
    "clean_table = df_facts.set_index([\"Facts\"])\n",
    "mars_table = clean_table.to_html()\n",
    "facts = mars_table.replace(\"\\n\", \"\")"
   ]
  },
  {
   "cell_type": "code",
   "execution_count": 7,
   "metadata": {},
   "outputs": [],
   "source": [
    "#Hemis_urls\n",
    "url_hemi = 'https://astrogeology.usgs.gov/search/results?q=hemisphere+enhanced&k1=target&v1=Mars'\n",
    "browser.visit(url_hemi)\n",
    "time.sleep(3)\n",
    "soup3 = BeautifulSoup(browser.html, 'html.parser')\n",
    "results = soup3.find('div', class_='collapsible results')\n",
    "hemis=results.find_all('a')\n",
    "hemis_urls=[]\n",
    "for hemi in hemis:\n",
    "    if hemi.h3:\n",
    "        title = hemi.h3.text\n",
    "        next_ = hemi[\"href\"]\n",
    "        browser.visit(\"https://astrogeology.usgs.gov/\" + next_)\n",
    "        time.sleep(3)\n",
    "        soup = BeautifulSoup(browser.html, 'html.parser')\n",
    "        hemisphere2 = soup.find(\"div\",class_= \"downloads\")\n",
    "        img=hemisphere2.ul.a[\"href\"]\n",
    "        hemisphere_dict={}\n",
    "        hemisphere_dict['title']=title\n",
    "        hemisphere_dict[\"image_url\"]=img\n",
    "        hemis_urls.append(hemisphere_dict)"
   ]
  },
  {
   "cell_type": "code",
   "execution_count": 12,
   "metadata": {},
   "outputs": [
    {
     "name": "stdout",
     "output_type": "stream",
     "text": [
      "The Extraordinary Sample-Gathering System of NASA's Perseverance Mars RoverTwo astronauts collected Moon rocks on Apollo 11. It will take three robotic systems working together to gather up the first Mars rock samples for return to Earth.InSight sol 538 (2020-06-01) low -92.0ºC (-133.5ºF) high -3.5ºC (25.7ºF)\n",
      "winds from the SW at 5.7 m/s (12.8 mph) gusting to 17.8 m/s (39.7 mph)\n",
      "pressure at 7.20 hPa<table border=\"1\" class=\"dataframe\">  <thead>    <tr style=\"text-align: right;\">      <th></th>      <th>Values</th>    </tr>    <tr>      <th>Facts</th>      <th></th>    </tr>  </thead>  <tbody>    <tr>      <th>Equatorial Diameter:</th>      <td>6,792 km</td>    </tr>    <tr>      <th>Polar Diameter:</th>      <td>6,752 km</td>    </tr>    <tr>      <th>Mass:</th>      <td>6.39 × 10^23 kg (0.11 Earths)</td>    </tr>    <tr>      <th>Moons:</th>      <td>2 (Phobos &amp; Deimos)</td>    </tr>    <tr>      <th>Orbit Distance:</th>      <td>227,943,824 km (1.38 AU)</td>    </tr>    <tr>      <th>Orbit Period:</th>      <td>687 days (1.9 years)</td>    </tr>    <tr>      <th>Surface Temperature:</th>      <td>-87 to -5 °C</td>    </tr>    <tr>      <th>First Record:</th>      <td>2nd millennium BC</td>    </tr>    <tr>      <th>Recorded By:</th>      <td>Egyptian astronomers</td>    </tr>  </tbody></table>[{'title': 'Cerberus Hemisphere Enhanced', 'image_url': 'https://astropedia.astrogeology.usgs.gov/download/Mars/Viking/cerberus_enhanced.tif/full.jpg'}, {'title': 'Schiaparelli Hemisphere Enhanced', 'image_url': 'https://astropedia.astrogeology.usgs.gov/download/Mars/Viking/schiaparelli_enhanced.tif/full.jpg'}, {'title': 'Syrtis Major Hemisphere Enhanced', 'image_url': 'https://astropedia.astrogeology.usgs.gov/download/Mars/Viking/syrtis_major_enhanced.tif/full.jpg'}, {'title': 'Valles Marineris Hemisphere Enhanced', 'image_url': 'https://astropedia.astrogeology.usgs.gov/download/Mars/Viking/valles_marineris_enhanced.tif/full.jpg'}]\n"
     ]
    }
   ],
   "source": [
    "print(f'{news_title}{news_paragraph}{weather}{facts}{hemis_urls}')"
   ]
  },
  {
   "cell_type": "code",
   "execution_count": 16,
   "metadata": {},
   "outputs": [
    {
     "name": "stderr",
     "output_type": "stream",
     "text": [
      "/anaconda3/lib/python3.7/site-packages/ipykernel_launcher.py:15: DeprecationWarning: insert is deprecated. Use insert_one or insert_many instead.\n",
      "  from ipykernel import kernelapp as app\n"
     ]
    },
    {
     "data": {
      "text/plain": [
       "ObjectId('5ed842477dc9c4bb32975aea')"
      ]
     },
     "execution_count": 16,
     "metadata": {},
     "output_type": "execute_result"
    }
   ],
   "source": [
    "# Setup connection to mongodb\n",
    "conn = \"mongodb://localhost:27017\"\n",
    "client = pymongo.MongoClient(conn)\n",
    "\n",
    "# Select database and collection to use\n",
    "db = client.mars\n",
    "mars_data = db.mars_data\n",
    "\n",
    "mars_data.insert({\n",
    "    \"news_title\": news_title,\n",
    "    \"news_paragraph\": news_paragraph,\n",
    "    \"featured_image_url\": featured_image_url,\n",
    "    \"weather\": weather,\n",
    "    \"facts\": facts,\n",
    "    \"hemi_urls\": hemis_urls\n",
    "})\n"
   ]
  },
  {
   "cell_type": "code",
   "execution_count": null,
   "metadata": {},
   "outputs": [],
   "source": []
  }
 ],
 "metadata": {
  "kernelspec": {
   "display_name": "Python 3",
   "language": "python",
   "name": "python3"
  },
  "language_info": {
   "codemirror_mode": {
    "name": "ipython",
    "version": 3
   },
   "file_extension": ".py",
   "mimetype": "text/x-python",
   "name": "python",
   "nbconvert_exporter": "python",
   "pygments_lexer": "ipython3",
   "version": "3.7.3"
  }
 },
 "nbformat": 4,
 "nbformat_minor": 2
}
